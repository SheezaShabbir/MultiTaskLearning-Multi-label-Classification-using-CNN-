{
  "nbformat": 4,
  "nbformat_minor": 0,
  "metadata": {
    "colab": {
      "name": "ML_CNNtask3_final.ipynb",
      "provenance": [],
      "collapsed_sections": []
    },
    "kernelspec": {
      "display_name": "Python 3",
      "language": "python",
      "name": "python3"
    },
    "language_info": {
      "codemirror_mode": {
        "name": "ipython",
        "version": 3
      },
      "file_extension": ".py",
      "mimetype": "text/x-python",
      "name": "python",
      "nbconvert_exporter": "python",
      "pygments_lexer": "ipython3",
      "version": "3.8.3"
    }
  },
  "cells": [
    {
      "cell_type": "markdown",
      "metadata": {
        "id": "Yow4PpGiK90B"
      },
      "source": [
        "## Imports"
      ]
    },
    {
      "cell_type": "code",
      "metadata": {
        "id": "TJZr5Zp4qqXp"
      },
      "source": [
        "from __future__ import print_function, division\n",
        "\n",
        "import torch\n",
        "import torch.nn as nn\n",
        "import torch.optim as optim\n",
        "from torch.optim import lr_scheduler\n",
        "import numpy as np\n",
        "import pandas as pd\n",
        "import torchvision\n",
        "from torchvision import datasets, models, transforms\n",
        "import matplotlib.pyplot as plt\n",
        "import time\n",
        "import os\n",
        "import copy\n",
        "from torch.utils.data import Dataset, DataLoader\n",
        "from PIL import Image\n",
        "from random import randrange\n",
        "import torch.nn.functional as F\n",
        "from sklearn.metrics import f1_score\n",
        "import seaborn as sns\n",
        "from torch.autograd import Variable\n",
        "plt.ion()   # interactive mode\n",
        "%matplotlib inline\n",
        "import tensorflow as tf\n",
        "sns.set_style('darkgrid')\n",
        "device = torch.device(\"cuda:0\" if torch.cuda.is_available() else \"cpu\")\n"
      ],
      "execution_count": 276,
      "outputs": []
    },
    {
      "cell_type": "code",
      "metadata": {
        "colab": {
          "base_uri": "https://localhost:8080/"
        },
        "id": "Kp8JIEtz1UWZ",
        "outputId": "6ceb3922-b8ff-48ed-be69-5e63f7c1110d"
      },
      "source": [
        "from google.colab import drive\n",
        "drive.mount('/content/drive')"
      ],
      "execution_count": 277,
      "outputs": [
        {
          "output_type": "stream",
          "name": "stdout",
          "text": [
            "Drive already mounted at /content/drive; to attempt to forcibly remount, call drive.mount(\"/content/drive\", force_remount=True).\n"
          ]
        }
      ]
    },
    {
      "cell_type": "markdown",
      "metadata": {
        "id": "uQ57K4o4LDPh"
      },
      "source": [
        "## Loading Data"
      ]
    },
    {
      "cell_type": "code",
      "metadata": {
        "id": "tj71Zu421ghD"
      },
      "source": [
        "#!unrar x '/content/drive/MyDrive/Image_Dataset1.rar'"
      ],
      "execution_count": 278,
      "outputs": []
    },
    {
      "cell_type": "markdown",
      "metadata": {
        "id": "3tn1IgQDLajS"
      },
      "source": [
        "## Reading Data"
      ]
    },
    {
      "cell_type": "code",
      "metadata": {
        "colab": {
          "base_uri": "https://localhost:8080/"
        },
        "id": "tjdLUG_D1yyV",
        "outputId": "36b05803-29af-4e6b-ce02-690dbfd7f9d0"
      },
      "source": [
        "train = pd.read_csv('/content/drive/MyDrive/Attributes_final_.csv')\n",
        "train.columns"
      ],
      "execution_count": 279,
      "outputs": [
        {
          "output_type": "execute_result",
          "data": {
            "text/plain": [
              "Index(['image_id', 'count', 'Smiling', 'Wearing_Hat', 'Young', 'Eyeglasses',\n",
              "       'Male', 'path'],\n",
              "      dtype='object')"
            ]
          },
          "metadata": {},
          "execution_count": 279
        }
      ]
    },
    {
      "cell_type": "code",
      "metadata": {
        "id": "nmpMMafY1--e"
      },
      "source": [
        "train[\"Smiling\"].replace({-1: 0}, inplace=True)\n",
        "train[\"Wearing_Hat\"].replace({-1: 0}, inplace=True)\n",
        "train[\"Young\"].replace({-1: 0}, inplace=True)\n",
        "train[\"Eyeglasses\"].replace({-1: 0}, inplace=True)\n",
        "train[\"Male\"].replace({-1: 0}, inplace=True)\n",
        "train['test']=1"
      ],
      "execution_count": 280,
      "outputs": []
    },
    {
      "cell_type": "code",
      "metadata": {
        "colab": {
          "base_uri": "https://localhost:8080/",
          "height": 206
        },
        "id": "jl5R9RMF2H_G",
        "outputId": "3ad799dc-b832-42ce-832f-efd8fb83a4f3"
      },
      "source": [
        "train.head()"
      ],
      "execution_count": 281,
      "outputs": [
        {
          "output_type": "execute_result",
          "data": {
            "text/html": [
              "<div>\n",
              "<style scoped>\n",
              "    .dataframe tbody tr th:only-of-type {\n",
              "        vertical-align: middle;\n",
              "    }\n",
              "\n",
              "    .dataframe tbody tr th {\n",
              "        vertical-align: top;\n",
              "    }\n",
              "\n",
              "    .dataframe thead th {\n",
              "        text-align: right;\n",
              "    }\n",
              "</style>\n",
              "<table border=\"1\" class=\"dataframe\">\n",
              "  <thead>\n",
              "    <tr style=\"text-align: right;\">\n",
              "      <th></th>\n",
              "      <th>image_id</th>\n",
              "      <th>count</th>\n",
              "      <th>Smiling</th>\n",
              "      <th>Wearing_Hat</th>\n",
              "      <th>Young</th>\n",
              "      <th>Eyeglasses</th>\n",
              "      <th>Male</th>\n",
              "      <th>path</th>\n",
              "      <th>test</th>\n",
              "    </tr>\n",
              "  </thead>\n",
              "  <tbody>\n",
              "    <tr>\n",
              "      <th>0</th>\n",
              "      <td>000001.jpg</td>\n",
              "      <td>2880</td>\n",
              "      <td>1</td>\n",
              "      <td>0</td>\n",
              "      <td>1</td>\n",
              "      <td>0</td>\n",
              "      <td>0</td>\n",
              "      <td>2880/000001.jpg</td>\n",
              "      <td>1</td>\n",
              "    </tr>\n",
              "    <tr>\n",
              "      <th>1</th>\n",
              "      <td>000002.jpg</td>\n",
              "      <td>2937</td>\n",
              "      <td>1</td>\n",
              "      <td>0</td>\n",
              "      <td>1</td>\n",
              "      <td>0</td>\n",
              "      <td>0</td>\n",
              "      <td>2937/000002.jpg</td>\n",
              "      <td>1</td>\n",
              "    </tr>\n",
              "    <tr>\n",
              "      <th>2</th>\n",
              "      <td>000003.jpg</td>\n",
              "      <td>8692</td>\n",
              "      <td>0</td>\n",
              "      <td>0</td>\n",
              "      <td>1</td>\n",
              "      <td>0</td>\n",
              "      <td>1</td>\n",
              "      <td>8692/000003.jpg</td>\n",
              "      <td>1</td>\n",
              "    </tr>\n",
              "    <tr>\n",
              "      <th>3</th>\n",
              "      <td>000004.jpg</td>\n",
              "      <td>5805</td>\n",
              "      <td>0</td>\n",
              "      <td>0</td>\n",
              "      <td>1</td>\n",
              "      <td>0</td>\n",
              "      <td>0</td>\n",
              "      <td>5805/000004.jpg</td>\n",
              "      <td>1</td>\n",
              "    </tr>\n",
              "    <tr>\n",
              "      <th>4</th>\n",
              "      <td>000006.jpg</td>\n",
              "      <td>4153</td>\n",
              "      <td>0</td>\n",
              "      <td>0</td>\n",
              "      <td>1</td>\n",
              "      <td>0</td>\n",
              "      <td>0</td>\n",
              "      <td>4153/000006.jpg</td>\n",
              "      <td>1</td>\n",
              "    </tr>\n",
              "  </tbody>\n",
              "</table>\n",
              "</div>"
            ],
            "text/plain": [
              "     image_id  count  Smiling  ...  Male             path  test\n",
              "0  000001.jpg   2880        1  ...     0  2880/000001.jpg     1\n",
              "1  000002.jpg   2937        1  ...     0  2937/000002.jpg     1\n",
              "2  000003.jpg   8692        0  ...     1  8692/000003.jpg     1\n",
              "3  000004.jpg   5805        0  ...     0  5805/000004.jpg     1\n",
              "4  000006.jpg   4153        0  ...     0  4153/000006.jpg     1\n",
              "\n",
              "[5 rows x 9 columns]"
            ]
          },
          "metadata": {},
          "execution_count": 281
        }
      ]
    },
    {
      "cell_type": "code",
      "metadata": {
        "id": "VXS-iF5SOpjN"
      },
      "source": [
        "y=train[['Smiling','Wearing_Hat','Young','Eyeglasses','Male']]"
      ],
      "execution_count": 282,
      "outputs": []
    },
    {
      "cell_type": "markdown",
      "metadata": {
        "id": "hPX5QEteLeJw"
      },
      "source": [
        "## Data Distribution"
      ]
    },
    {
      "cell_type": "code",
      "metadata": {
        "colab": {
          "base_uri": "https://localhost:8080/",
          "height": 746
        },
        "id": "Fhm1xT1jdA8_",
        "outputId": "e4d45493-f7a7-42e3-c02e-3383214fec4a"
      },
      "source": [
        "colors = ['orange', 'cyan', 'green','Blue','Green','yellow']\n",
        "fig = plt.figure(1,figsize=(16,12))\n",
        "for i, col in enumerate(y,1):\n",
        "    fig.add_subplot(2,3,i,)\n",
        "    y[col].value_counts().plot(kind='bar',ax=plt.gca(),color=colors[i-1])\n",
        "    plt.title(col)\n",
        "plt.tight_layout()\n",
        "plt.show(1)"
      ],
      "execution_count": 283,
      "outputs": [
        {
          "output_type": "display_data",
          "data": {
            "image/png": "[encoded data removed]",
            "text/plain": [
              "<Figure size 1152x864 with 5 Axes>"
            ]
          },
          "metadata": {}
        }
      ]
    },
    {
      "cell_type": "code",
      "metadata": {
        "id": "WrAjArJ1qqXw"
      },
      "source": [
        "import pandas as pd\n",
        "import numpy as np\n",
        "from sklearn.model_selection import train_test_split\n",
        "X=train['path']\n",
        "y=train[['Smiling','Wearing_Hat','Young','Eyeglasses','Male']]\n",
        "X_train, X_test, y_train, y_test = train_test_split(X, y, test_size=0.20,shuffle=True,random_state=42)\n",
        "X_train = X_train.values.tolist()\n",
        "X_test = X_test.values.tolist()\n",
        "#...........................................For Training................................\n",
        "smile_train = y_train['Smiling']\n",
        "smile_nodes=1\n",
        "smile_train = smile_train.values.tolist()\n",
        "gender_train = y_train['Male']\n",
        "gender_nodes = gender_train.values.reshape(gender_train.shape[0],1)\n",
        "gender_nodes=1\n",
        "gender_train = gender_train.values.tolist()\n",
        "Glasses_train = y_train['Eyeglasses']\n",
        "Glasses_nodes = 1\n",
        "Glasses_train = Glasses_train.values.tolist()\n",
        "Young_train = y_train['Young']\n",
        "Young_nodes = 1\n",
        "Young_train = Young_train.values.tolist()\n",
        "hat_train = y_train['Wearing_Hat']\n",
        "hat_nodes = 1\n",
        "hat_train = hat_train.values.tolist()\n",
        "\n",
        "#............................................For testing....................................\n",
        "\n",
        "smile_test = y_test['Smiling']\n",
        "smile_nodes = 1\n",
        "smile_test = smile_test.values.tolist()\n",
        "gender_test = y_test['Male']\n",
        "gender_nodes = 1\n",
        "gender_test = gender_test.values.tolist()\n",
        "Glasses_test = y_test['Eyeglasses']\n",
        "Glasses_nodes = 1\n",
        "Glasses_test = Glasses_test.values.tolist()\n",
        "Young_test = y_test['Young']\n",
        "Young_nodes = 1\n",
        "Young_test = Young_test.values.tolist()\n",
        "hat_test = y_test['Wearing_Hat']\n",
        "hat_nodes = 1\n",
        "hat_test = hat_test.values.tolist()\n"
      ],
      "execution_count": 284,
      "outputs": []
    },
    {
      "cell_type": "markdown",
      "metadata": {
        "id": "OCKG1DaVLqiO"
      },
      "source": [
        "## Data Transformation"
      ]
    },
    {
      "cell_type": "code",
      "metadata": {
        "id": "SyE6qe80qqX2"
      },
      "source": [
        "class ImageDataset(Dataset):\n",
        "    def __init__(self,Data_list,path,transform=None):\n",
        "        self.Data_list = Data_list\n",
        "        self.transform = transform\n",
        "        self.path=path     \n",
        "    def __getitem__(self,index):        \n",
        "        img1 = Image.open(path+self.Data_list[0][index])\n",
        "        img1 = img1.convert('RGB')\n",
        "        gender = self.Data_list[1][index] # gender\n",
        "        Glasses = self.Data_list[2][index] # EyeGlasses\n",
        "        Young = self.Data_list[3][index] # Young\n",
        "        Hat = self.Data_list[4][index] # WearingHat\n",
        "        Smile = self.Data_list[5][index] # Smiling\n",
        "        if self.transform is not None:\n",
        "            img1 = self.transform(img1)\n",
        "        list_of_labels = [torch.from_numpy(np.array(gender)),\n",
        "                      torch.from_numpy(np.array(Glasses)),\n",
        "                      torch.from_numpy(np.array(Young)),\n",
        "                      torch.from_numpy(np.array(Hat)),\n",
        "                      torch.from_numpy(np.array(Smile))]\n",
        "        return img1, list_of_labels[0],list_of_labels[1],list_of_labels[2],list_of_labels[3],list_of_labels[4]\n",
        "    def __len__(self):\n",
        "        return len(self.Data_list[0])"
      ],
      "execution_count": 285,
      "outputs": []
    },
    {
      "cell_type": "code",
      "metadata": {
        "id": "rRehR5hKqqX3"
      },
      "source": [
        "def Transformation(batch_size,path):\n",
        "              data_transforms = {\n",
        "                  'train': transforms.Compose([\n",
        "                    transforms.Resize((64,64)),\n",
        "                      transforms.ToTensor(),\n",
        "                    transforms.Normalize([0.5109, 0.4284, 0.3849], [0.2695, 0.2484, 0.2435])\n",
        "                  ]),\n",
        "                  'val': transforms.Compose([\n",
        "                      transforms.Resize((64,64)),\n",
        "                      transforms.ToTensor(),\n",
        "                   transforms.Normalize([0.5076, 0.4205, 0.3770], [0.2719, 0.2487, 0.2426])\n",
        "                  ]),\n",
        "              }\n",
        "              train_lists = [X_train, gender_train,Glasses_train, Young_train, hat_train, smile_train]\n",
        "              test_lists = [X_test, gender_test, Glasses_test,Young_test, hat_test,smile_test]\n",
        "\n",
        "              training_dataset = ImageDataset(Data_list = train_lists,path=path, transform = data_transforms['train'] )\n",
        "\n",
        "              test_dataset = ImageDataset(Data_list = test_lists,path=path,transform = data_transforms['val'] )\n",
        "\n",
        "              dataloaders_dict = {'train': torch.utils.data.DataLoader(training_dataset, batch_size=batch_size, shuffle=True, num_workers=0),\n",
        "                                'val':torch.utils.data.DataLoader(test_dataset, batch_size=batch_size, shuffle=True, num_workers=0)\n",
        "                                }\n",
        "              dataset_sizes = {'train':len(train_lists[0]),\n",
        "                              'val':len(test_lists[0])}\n",
        "              return dataloaders_dict,dataset_sizes\n"
      ],
      "execution_count": 286,
      "outputs": []
    },
    {
      "cell_type": "code",
      "metadata": {
        "id": "8jAxoJgbME0I",
        "colab": {
          "base_uri": "https://localhost:8080/"
        },
        "outputId": "7c374dee-21b7-433b-dfad-e622cf404cd5"
      },
      "source": [
        "batch_size = 4\n",
        "path='/content/Image_Dataset1/'\n",
        "dataloaders_dict,dataset_sizes= Transformation(batch_size,path)\n",
        "dataloaders_dict['train']"
      ],
      "execution_count": 287,
      "outputs": [
        {
          "output_type": "execute_result",
          "data": {
            "text/plain": [
              "<torch.utils.data.dataloader.DataLoader at 0x7f855a483550>"
            ]
          },
          "metadata": {},
          "execution_count": 287
        }
      ]
    },
    {
      "cell_type": "markdown",
      "metadata": {
        "id": "xInujy5hMd5f"
      },
      "source": [
        "### Data Normalization"
      ]
    },
    {
      "cell_type": "code",
      "metadata": {
        "id": "TFsoqa0hQUAB"
      },
      "source": [
        " def Normalization():       \n",
        "        mean = 0.\n",
        "        std = 0.\n",
        "        for images, _,_,_,_,_ in dataloaders_dict['val']:\n",
        "            batch_samples = images.size(0) # batch size (the last batch can have smaller size!)\n",
        "            images = images.view(batch_samples, images.size(1), -1)\n",
        "            mean += images.mean(2).sum(0)\n",
        "            std += images.std(2).sum(0)\n",
        "\n",
        "        mean /= dataset_sizes['val']\n",
        "        std /= dataset_sizes['val']\n",
        "        return mean,std"
      ],
      "execution_count": 288,
      "outputs": []
    },
    {
      "cell_type": "code",
      "metadata": {
        "colab": {
          "base_uri": "https://localhost:8080/"
        },
        "id": "pSFzsZb4WqXn",
        "outputId": "0acf0305-4ce3-4c7e-a7b1-6fd743659642"
      },
      "source": [
        "mean,std=Normalization()\n",
        "mean,std"
      ],
      "execution_count": 289,
      "outputs": [
        {
          "output_type": "execute_result",
          "data": {
            "text/plain": [
              "(tensor([ 2.6273e-05,  9.6022e-05, -2.2010e-04]),\n",
              " tensor([0.9813, 0.9792, 0.9791]))"
            ]
          },
          "metadata": {},
          "execution_count": 289
        }
      ]
    },
    {
      "cell_type": "markdown",
      "metadata": {
        "id": "UskB9y_KMpnk"
      },
      "source": [
        "## Data Representation"
      ]
    },
    {
      "cell_type": "code",
      "metadata": {
        "colab": {
          "base_uri": "https://localhost:8080/"
        },
        "id": "_HKfCc8OH2d-",
        "outputId": "97a08c42-c4f7-4dc0-9292-f459488ba9d9"
      },
      "source": [
        "batch = next(iter(dataloaders_dict['train']))\n",
        "print(batch[0].shape)\n",
        "print(\"Output label tensors: \", batch[1])\n",
        "print(\"\\nOutput label tensor shape: \", batch[1].shape)\n",
        "simage = batch[0][0]\n",
        "simage.shape\n"
      ],
      "execution_count": 290,
      "outputs": [
        {
          "output_type": "stream",
          "name": "stdout",
          "text": [
            "torch.Size([4, 3, 64, 64])\n",
            "Output label tensors:  tensor([1, 0, 1, 1])\n",
            "\n",
            "Output label tensor shape:  torch.Size([4])\n"
          ]
        },
        {
          "output_type": "execute_result",
          "data": {
            "text/plain": [
              "torch.Size([3, 64, 64])"
            ]
          },
          "metadata": {},
          "execution_count": 290
        }
      ]
    },
    {
      "cell_type": "code",
      "metadata": {
        "colab": {
          "base_uri": "https://localhost:8080/",
          "height": 321
        },
        "id": "9JjkXxzgSbpW",
        "outputId": "ab05fe62-bd58-43b4-e17b-b23aafb1c636"
      },
      "source": [
        "from torchvision import transforms, utils, datasets\n",
        "batch_grid = utils.make_grid(batch[0], nrow=4)\n",
        "plt.figure(figsize = (20,15))\n",
        "plt.imshow(batch_grid.permute(1, 2, 0))"
      ],
      "execution_count": 291,
      "outputs": [
        {
          "output_type": "stream",
          "name": "stderr",
          "text": [
            "Clipping input data to the valid range for imshow with RGB data ([0..1] for floats or [0..255] for integers).\n"
          ]
        },
        {
          "output_type": "execute_result",
          "data": {
            "text/plain": [
              "<matplotlib.image.AxesImage at 0x7f855a425c50>"
            ]
          },
          "metadata": {},
          "execution_count": 291
        },
        {
          "output_type": "display_data",
          "data": {
            "image/png": "[encoded data removed]",
            "text/plain": [
              "<Figure size 1440x1080 with 1 Axes>"
            ]
          },
          "metadata": {}
        }
      ]
    },
    {
      "cell_type": "markdown",
      "metadata": {
        "id": "dtBwj8yKNX9k"
      },
      "source": [
        "## Network"
      ]
    },
    {
      "cell_type": "code",
      "metadata": {
        "id": "LRvAuCbIAYmT"
      },
      "source": [
        "#defining the network\n",
        "from torch import nn\n",
        "from torch.nn import functional as F\n",
        "class Net(nn.Module):\n",
        " def __init__(self,gender_nodes,Glasses_nodes,young_nodes,hat_nodes,smile_nodes):\n",
        "      super(Net,self).__init__()\n",
        "      self.conv1 = nn.Conv2d(3, 16, 5) \n",
        "      self.pool = nn.MaxPool2d(2, 2)\n",
        "      self.conv2 = nn.Conv2d(16,32, 5, stride=2, padding=1)   \n",
        "      self.fc1 = nn.Linear(1568,1024)  \n",
        "      self.fc2 = nn.Linear(1024,512)  \n",
        "      self.out=nn.Sigmoid()\n",
        "      self.fc9 = nn.Linear(512,gender_nodes)\n",
        "      self.fc10 = nn.Linear(512,Glasses_nodes)  \n",
        "      self.fc11 = nn.Linear(512,young_nodes)  \n",
        "      self.fc12= nn.Linear(512,hat_nodes)  \n",
        "      self.fc13= nn.Linear(512,smile_nodes)  \n",
        " def forward(self, x):   \n",
        "        x = self.pool(F.relu(self.conv1(x)))\n",
        "        x = self.pool(F.relu(self.conv2(x)))\n",
        "        x = x.view(x.shape[0],-1)\n",
        "        x = F.relu(self.fc1(x))\n",
        "        x = F.relu(self.fc2(x))\n",
        "        x1 = self.fc9(x)\n",
        "        xa=self.out(x1)\n",
        "        x2 = self.fc10(x)\n",
        "        xb=self.out(x2)\n",
        "        x3 = self.fc11(x)\n",
        "        xc=self.out(x3)\n",
        "        x4 = self.fc12(x)\n",
        "        xd=self.out(x4)\n",
        "        x5 = self.fc13(x)\n",
        "        xe=self.out(x5)\n",
        "        return xa,xb,xc,xd,xe"
      ],
      "execution_count": 292,
      "outputs": []
    },
    {
      "cell_type": "code",
      "metadata": {
        "colab": {
          "base_uri": "https://localhost:8080/"
        },
        "id": "VDKvBEz861XK",
        "outputId": "0e7c1d16-0692-4444-a274-3e141820c5f3"
      },
      "source": [
        "model = Net(gender_nodes,Glasses_nodes,Young_nodes,hat_nodes,smile_nodes)\n",
        "model.to(device)\n",
        "print(model)"
      ],
      "execution_count": 293,
      "outputs": [
        {
          "output_type": "stream",
          "name": "stdout",
          "text": [
            "Net(\n",
            "  (conv1): Conv2d(3, 16, kernel_size=(5, 5), stride=(1, 1))\n",
            "  (pool): MaxPool2d(kernel_size=2, stride=2, padding=0, dilation=1, ceil_mode=False)\n",
            "  (conv2): Conv2d(16, 32, kernel_size=(5, 5), stride=(2, 2), padding=(1, 1))\n",
            "  (fc1): Linear(in_features=1568, out_features=1024, bias=True)\n",
            "  (fc2): Linear(in_features=1024, out_features=512, bias=True)\n",
            "  (out): Sigmoid()\n",
            "  (fc9): Linear(in_features=512, out_features=1, bias=True)\n",
            "  (fc10): Linear(in_features=512, out_features=1, bias=True)\n",
            "  (fc11): Linear(in_features=512, out_features=1, bias=True)\n",
            "  (fc12): Linear(in_features=512, out_features=1, bias=True)\n",
            "  (fc13): Linear(in_features=512, out_features=1, bias=True)\n",
            ")\n"
          ]
        }
      ]
    },
    {
      "cell_type": "code",
      "metadata": {
        "id": "UzPgwJYRAuOm"
      },
      "source": [
        "#hyper parameters\n",
        "learning_rate = 0.001\n",
        "# Model , Optimizer, Loss\n",
        "optimizer = torch.optim.SGD(model.parameters(),lr=learning_rate,momentum=0.9)\n",
        "criterion = nn.BCELoss()"
      ],
      "execution_count": 294,
      "outputs": []
    },
    {
      "cell_type": "markdown",
      "metadata": {
        "id": "aJEt-mNoNbXW"
      },
      "source": [
        ""
      ]
    },
    {
      "cell_type": "markdown",
      "metadata": {
        "id": "ZTmMJd1VVgfx"
      },
      "source": [
        "## Training Model"
      ]
    },
    {
      "cell_type": "code",
      "metadata": {
        "id": "tA5IuRpS9aJ6"
      },
      "source": [
        "def binary_acc(y_pred, y_test):\n",
        "    for i in range(len(y_pred)):\n",
        "       if y_pred[i] > 0.5:\n",
        "           y_pred[i]=1\n",
        "       else:\n",
        "           y_pred[i]=0\n",
        "    acc = (y_pred == y_test).sum()\n",
        "    return  acc"
      ],
      "execution_count": 295,
      "outputs": []
    },
    {
      "cell_type": "code",
      "metadata": {
        "id": "kamUHThtgMF_"
      },
      "source": [
        "def predictions(y_pred):\n",
        "    for i in range(len(y_pred)):\n",
        "       if y_pred[i] > 0.5:\n",
        "           y_pred[i]=1\n",
        "       else:\n",
        "           y_pred[i]=0\n",
        "    return y_pred"
      ],
      "execution_count": 296,
      "outputs": []
    },
    {
      "cell_type": "code",
      "metadata": {
        "id": "e6de0XWHFVbo"
      },
      "source": [
        "def train_gender(net, training_data,validation_data,epochs,criterion,optimizer,validation):\n",
        "    device = torch.device('cuda' if torch.cuda.is_available() else 'cpu')\n",
        "    train_loss=[]\n",
        "    train_accuracy=[]\n",
        "    gen_accuracy=[]\n",
        "    eye_accuracy=[]\n",
        "    young_accuracy=[]\n",
        "    hat_accuracy=[]\n",
        "    smile_accuracy=[]\n",
        "    gen_vacc=[]\n",
        "    eye_vacc=[]\n",
        "    hat_vacc=[]\n",
        "    young_vacc=[]\n",
        "    smile_vacc=[]\n",
        "    val_acc=[]\n",
        "    t_loss=0\n",
        "    val_loss=[]\n",
        "    for epoch in range(epochs):\n",
        "        loss_=0\n",
        "        correct=0\n",
        "        total=0\n",
        "        acc1=0\n",
        "        acc2=0\n",
        "        acc3=0\n",
        "        acc4=0\n",
        "        acc5=0\n",
        "        for batch, (data,gender,Glasses,young,hat,smile) in enumerate(training_data):\n",
        "            data, gender,Glasses,young,hat,smile= Variable(data), Variable(gender),Variable(Glasses),Variable(young),Variable(hat),Variable(smile)\n",
        "            data, gender,Glasses,young,hat,smile = data.to(device), gender.to(device),Glasses.to(device),young.to(device),hat.to(device),smile.to(device) \n",
        "            optimizer.zero_grad()\n",
        "            pred_gender,pred_Glasses,pred_young,pred_hat,pred_smile = net(data)\n",
        "            gender=gender.unsqueeze(1).float()\n",
        "            Glasses=Glasses.unsqueeze(1).float()\n",
        "            young=young.unsqueeze(1).float()\n",
        "            hat=hat.unsqueeze(1).float()\n",
        "            smile=smile.unsqueeze(1).float()\n",
        "            loss1 = criterion(pred_gender,gender)\n",
        "            loss2 = criterion(pred_Glasses,Glasses)\n",
        "            loss3 = criterion(pred_young,young)\n",
        "            loss4 = criterion(pred_hat,hat)\n",
        "            loss5 = criterion(pred_smile,smile)\n",
        "            t_loss=(loss1+loss2+loss3+loss4+loss5)/5\n",
        "            t_loss.backward()\n",
        "            optimizer.step()\n",
        "            loss_+=t_loss.item()\n",
        "            total += gender.size(0)\n",
        "            acc1 += binary_acc(pred_gender,gender)\n",
        "            acc2 += binary_acc(pred_Glasses,Glasses)\n",
        "            acc3 += binary_acc(pred_young,young)\n",
        "            acc4 += binary_acc(pred_hat,hat)\n",
        "            acc5 += binary_acc(pred_smile,smile)\n",
        "            correct=(acc1+acc2+acc3+acc4+acc5)/5\n",
        "        train_loss.append(loss_/dataset_sizes['train'])\n",
        "        train_accuracy.append(correct / float(total))\n",
        "        gen_accuracy.append(acc1/ float(total))\n",
        "        eye_accuracy.append(acc2/ float(total))\n",
        "        young_accuracy.append(acc3 / float(total))\n",
        "        hat_accuracy.append(acc4 / float(total))\n",
        "        smile_accuracy.append(acc5 / float(total))\n",
        "        print('Train Epoch: {} \\tLoss: {}\\tAccuracy: {}'.format( epoch,t_loss.item(),100*(correct / float(total))))\n",
        "        print('.......................................')\n",
        "        print('Gender Accuracy: {}\\n EyeGlasses Accurcay: {}\\n Young Accuracy: {}\\n Hat Accurcay: {}\\n Smile Accurcay: {}'.format(100*(acc1 / float(total)),100*(acc2 / float(total)),100*(acc3 / float(total)),100*(acc4 / float(total)),100*(acc5 / float(total))))\n",
        "        print('\\n')\n",
        "        if validation==True:\n",
        "          total_val=0\n",
        "          correct_val=0\n",
        "          v_loss=0\n",
        "          accv1=0\n",
        "          accv2=0\n",
        "          accv3=0\n",
        "          accv4=0\n",
        "          accv5=0\n",
        "          for batchv, (datav,genderv,Glassesv,youngv,hatv,smilev) in enumerate(validation_data, 0):\n",
        "              datav, genderv,Glassesv,youngv,hatv,smilev= Variable(datav), Variable(genderv),Variable(Glassesv),Variable(youngv),Variable(hatv),Variable(smilev)\n",
        "              datav, genderv,Glassesv,youngv,hatv,smilev = datav.to(device), genderv.to(device),Glassesv.to(device),youngv.to(device),hatv.to(device),smilev.to(device)       \n",
        "              g_out,e_out,y_out,h_out,s_out= net(datav)\n",
        "              genderv=genderv.unsqueeze(1).float()\n",
        "              Glassesv=Glassesv.unsqueeze(1).float()\n",
        "              youngv=youngv.unsqueeze(1).float()\n",
        "              hatv=hatv.unsqueeze(1).float()\n",
        "              smilev=smilev.unsqueeze(1).float()\n",
        "              lossv1= criterion(g_out,genderv)\n",
        "              lossv2 = criterion(e_out,Glassesv)\n",
        "              lossv3 = criterion(y_out,youngv)\n",
        "              lossv4= criterion(h_out,hatv)\n",
        "              lossv5 = criterion(s_out,smilev)\n",
        "              lossv=(lossv1+lossv2+lossv3+lossv4+lossv5)/5\n",
        "              total_val += len(genderv)\n",
        "              v_loss += lossv.item()\n",
        "              accv1 += binary_acc(g_out,genderv)\n",
        "              accv2 += binary_acc(e_out,Glassesv)\n",
        "              accv3 += binary_acc(y_out,youngv)\n",
        "              accv4 += binary_acc(h_out,hatv)\n",
        "              accv5 += binary_acc(s_out,smilev)\n",
        "              correct_val=(accv1+accv2+accv3+accv4+accv5)/5\n",
        "          gen_vacc.append(accv1/ float(total_val))\n",
        "          eye_vacc.append(accv2/ float(total_val))\n",
        "          young_vacc.append(accv3 / float(total_val))\n",
        "          hat_vacc.append(accv4 / float(total_val))\n",
        "          smile_vacc.append(accv5 / float(total_val))\n",
        "          val_loss.append(v_loss/dataset_sizes['val'])\n",
        "          val_acc.append(correct_val / float(total_val))\n",
        "          print('Validation Epoch: {} \\tLoss: {}\\tAccuracy: {}'.format( epoch,lossv.item(),100*(correct_val / float(total_val))))\n",
        "          print('.......................................')\n",
        "          print(\"Gender Accuracy: {} \\nEyeGlasses Accurcay: {} \\nYoung Accuracy: {} \\nHat Accurcay: {} \\nSmile Accurcay: {}\".format(100*(accv1 / float(total_val)),100*(accv2 / float(total_val)),100*(accv3 / float(total_val)),100*(accv4 / float(total_val)),100*(accv5 / float(total_val))))\n",
        "          print()\n",
        "    return train_loss,train_accuracy,val_loss,val_acc,gen_vacc,eye_vacc,young_vacc,hat_vacc,smile_vacc,gen_accuracy,eye_accuracy,young_accuracy,hat_accuracy,smile_accuracy\n"
      ],
      "execution_count": 297,
      "outputs": []
    },
    {
      "cell_type": "code",
      "metadata": {
        "colab": {
          "base_uri": "https://localhost:8080/"
        },
        "id": "UwyL6iGFHOGQ",
        "outputId": "0d4d35bc-86fa-4713-e419-30fb3ac48355"
      },
      "source": [
        "train_loss,train_accuracy,val_loss,val_acc,gen_vacc,eye_vacc,young_vacc,hat_vacc,smile_vacc,gen_accuracy,eye_accuracy,young_accuracy,hat_accuracy,smile_accuracy=train_gender(model,dataloaders_dict['train'],dataloaders_dict['val'],14,criterion,optimizer,True)"
      ],
      "execution_count": 298,
      "outputs": [
        {
          "output_type": "stream",
          "name": "stdout",
          "text": [
            "Train Epoch: 0 \tLoss: 0.4757609963417053\tAccuracy: 76.30308532714844\n",
            ".......................................\n",
            "Gender Accuracy: 60.824310302734375\n",
            " EyeGlasses Accurcay: 93.71356964111328\n",
            " Young Accuracy: 79.72522735595703\n",
            " Hat Accurcay: 93.50540924072266\n",
            " Smile Accurcay: 53.74687957763672\n",
            "\n",
            "\n",
            "Validation Epoch: 0 \tLoss: 0.41657695174217224\tAccuracy: 80.6655502319336\n",
            ".......................................\n",
            "Gender Accuracy: 69.21797180175781 \n",
            "EyeGlasses Accurcay: 96.00665283203125 \n",
            "Young Accuracy: 82.36273193359375 \n",
            "Hat Accurcay: 96.33943176269531 \n",
            "Smile Accurcay: 59.4010009765625\n",
            "\n",
            "Train Epoch: 1 \tLoss: 0.43698054552078247\tAccuracy: 79.81681823730469\n",
            ".......................................\n",
            "Gender Accuracy: 69.90008544921875\n",
            " EyeGlasses Accurcay: 93.71356964111328\n",
            " Young Accuracy: 79.72522735595703\n",
            " Hat Accurcay: 95.83679962158203\n",
            " Smile Accurcay: 59.908409118652344\n",
            "\n",
            "\n",
            "Validation Epoch: 1 \tLoss: 0.13970841467380524\tAccuracy: 81.66388702392578\n",
            ".......................................\n",
            "Gender Accuracy: 73.04492950439453 \n",
            "EyeGlasses Accurcay: 96.00665283203125 \n",
            "Young Accuracy: 82.36273193359375 \n",
            "Hat Accurcay: 96.33943176269531 \n",
            "Smile Accurcay: 60.56572341918945\n",
            "\n",
            "Train Epoch: 2 \tLoss: 0.5196747183799744\tAccuracy: 81.52372741699219\n",
            ".......................................\n",
            "Gender Accuracy: 73.730224609375\n",
            " EyeGlasses Accurcay: 93.71356964111328\n",
            " Young Accuracy: 79.72522735595703\n",
            " Hat Accurcay: 95.83679962158203\n",
            " Smile Accurcay: 64.61282348632812\n",
            "\n",
            "\n",
            "Validation Epoch: 2 \tLoss: 0.9429868459701538\tAccuracy: 83.52745056152344\n",
            ".......................................\n",
            "Gender Accuracy: 77.03826904296875 \n",
            "EyeGlasses Accurcay: 96.00665283203125 \n",
            "Young Accuracy: 82.19633483886719 \n",
            "Hat Accurcay: 96.33943176269531 \n",
            "Smile Accurcay: 66.05657196044922\n",
            "\n",
            "Train Epoch: 3 \tLoss: 0.2790248990058899\tAccuracy: 83.11406707763672\n",
            ".......................................\n",
            "Gender Accuracy: 76.39466857910156\n",
            " EyeGlasses Accurcay: 93.71356964111328\n",
            " Young Accuracy: 79.93338775634766\n",
            " Hat Accurcay: 95.83679962158203\n",
            " Smile Accurcay: 69.69192504882812\n",
            "\n",
            "\n",
            "Validation Epoch: 3 \tLoss: 0.3476548492908478\tAccuracy: 84.15972900390625\n",
            ".......................................\n",
            "Gender Accuracy: 78.8685531616211 \n",
            "EyeGlasses Accurcay: 96.00665283203125 \n",
            "Young Accuracy: 81.69717407226562 \n",
            "Hat Accurcay: 96.33943176269531 \n",
            "Smile Accurcay: 67.88685607910156\n",
            "\n",
            "Train Epoch: 4 \tLoss: 0.2613823413848877\tAccuracy: 84.50457763671875\n",
            ".......................................\n",
            "Gender Accuracy: 79.89176177978516\n",
            " EyeGlasses Accurcay: 93.79683685302734\n",
            " Young Accuracy: 80.26644897460938\n",
            " Hat Accurcay: 95.83679962158203\n",
            " Smile Accurcay: 72.7310562133789\n",
            "\n",
            "\n",
            "Validation Epoch: 4 \tLoss: 0.3619585633277893\tAccuracy: 85.59068298339844\n",
            ".......................................\n",
            "Gender Accuracy: 81.197998046875 \n",
            "EyeGlasses Accurcay: 96.00665283203125 \n",
            "Young Accuracy: 81.86355590820312 \n",
            "Hat Accurcay: 96.17304229736328 \n",
            "Smile Accurcay: 72.71215057373047\n",
            "\n",
            "Train Epoch: 5 \tLoss: 0.24820390343666077\tAccuracy: 85.5870132446289\n",
            ".......................................\n",
            "Gender Accuracy: 81.43213653564453\n",
            " EyeGlasses Accurcay: 94.7543716430664\n",
            " Young Accuracy: 81.01581573486328\n",
            " Hat Accurcay: 95.87843322753906\n",
            " Smile Accurcay: 74.85429382324219\n",
            "\n",
            "\n",
            "Validation Epoch: 5 \tLoss: 0.11220546066761017\tAccuracy: 86.98834991455078\n",
            ".......................................\n",
            "Gender Accuracy: 83.52745056152344 \n",
            "EyeGlasses Accurcay: 96.8386001586914 \n",
            "Young Accuracy: 82.02995300292969 \n",
            "Hat Accurcay: 96.33943176269531 \n",
            "Smile Accurcay: 76.2063217163086\n",
            "\n",
            "Train Epoch: 6 \tLoss: 0.08512536436319351\tAccuracy: 87.8184814453125\n",
            ".......................................\n",
            "Gender Accuracy: 86.13655853271484\n",
            " EyeGlasses Accurcay: 96.586181640625\n",
            " Young Accuracy: 81.84845733642578\n",
            " Hat Accurcay: 96.16986083984375\n",
            " Smile Accurcay: 78.35137176513672\n",
            "\n",
            "\n",
            "Validation Epoch: 6 \tLoss: 0.4580848217010498\tAccuracy: 88.45257568359375\n",
            ".......................................\n",
            "Gender Accuracy: 85.52412414550781 \n",
            "EyeGlasses Accurcay: 98.16971588134766 \n",
            "Young Accuracy: 83.02828979492188 \n",
            "Hat Accurcay: 96.33943176269531 \n",
            "Smile Accurcay: 79.20133209228516\n",
            "\n",
            "Train Epoch: 7 \tLoss: 0.21081073582172394\tAccuracy: 88.71773529052734\n",
            ".......................................\n",
            "Gender Accuracy: 86.80266571044922\n",
            " EyeGlasses Accurcay: 97.12739562988281\n",
            " Young Accuracy: 82.26477813720703\n",
            " Hat Accurcay: 96.25312042236328\n",
            " Smile Accurcay: 81.14071655273438\n",
            "\n",
            "\n",
            "Validation Epoch: 7 \tLoss: 0.5633373260498047\tAccuracy: 87.85357666015625\n",
            ".......................................\n",
            "Gender Accuracy: 84.69217681884766 \n",
            "EyeGlasses Accurcay: 99.00166320800781 \n",
            "Young Accuracy: 82.36273193359375 \n",
            "Hat Accurcay: 96.50582122802734 \n",
            "Smile Accurcay: 76.70549011230469\n",
            "\n",
            "Train Epoch: 8 \tLoss: 0.1391310691833496\tAccuracy: 90.04163360595703\n",
            ".......................................\n",
            "Gender Accuracy: 89.55037689208984\n",
            " EyeGlasses Accurcay: 97.96002960205078\n",
            " Young Accuracy: 82.80599975585938\n",
            " Hat Accurcay: 96.91923522949219\n",
            " Smile Accurcay: 82.97251892089844\n",
            "\n",
            "\n",
            "Validation Epoch: 8 \tLoss: 0.07273243367671967\tAccuracy: 89.61730194091797\n",
            ".......................................\n",
            "Gender Accuracy: 88.35274505615234 \n",
            "EyeGlasses Accurcay: 98.50249481201172 \n",
            "Young Accuracy: 83.02828979492188 \n",
            "Hat Accurcay: 96.50582122802734 \n",
            "Smile Accurcay: 81.69717407226562\n",
            "\n",
            "Train Epoch: 9 \tLoss: 0.20354393124580383\tAccuracy: 91.3988265991211\n",
            ".......................................\n",
            "Gender Accuracy: 91.46544647216797\n",
            " EyeGlasses Accurcay: 98.20982360839844\n",
            " Young Accuracy: 83.97169494628906\n",
            " Hat Accurcay: 97.46044921875\n",
            " Smile Accurcay: 85.88675689697266\n",
            "\n",
            "\n",
            "Validation Epoch: 9 \tLoss: 0.01691179722547531\tAccuracy: 89.2845230102539\n",
            ".......................................\n",
            "Gender Accuracy: 87.0216293334961 \n",
            "EyeGlasses Accurcay: 99.00166320800781 \n",
            "Young Accuracy: 78.8685531616211 \n",
            "Hat Accurcay: 97.3377685546875 \n",
            "Smile Accurcay: 84.19300842285156\n",
            "\n",
            "Train Epoch: 10 \tLoss: 0.10251899063587189\tAccuracy: 92.34803771972656\n",
            ".......................................\n",
            "Gender Accuracy: 92.79766845703125\n",
            " EyeGlasses Accurcay: 98.5012435913086\n",
            " Young Accuracy: 84.97085571289062\n",
            " Hat Accurcay: 97.75187683105469\n",
            " Smile Accurcay: 87.71856689453125\n",
            "\n",
            "\n",
            "Validation Epoch: 10 \tLoss: 0.06412698328495026\tAccuracy: 91.01497650146484\n",
            ".......................................\n",
            "Gender Accuracy: 90.18302917480469 \n",
            "EyeGlasses Accurcay: 99.33444213867188 \n",
            "Young Accuracy: 83.19467163085938 \n",
            "Hat Accurcay: 97.00498962402344 \n",
            "Smile Accurcay: 85.35773468017578\n",
            "\n",
            "Train Epoch: 11 \tLoss: 0.07926645129919052\tAccuracy: 92.98084259033203\n",
            ".......................................\n",
            "Gender Accuracy: 93.96336364746094\n",
            " EyeGlasses Accurcay: 98.62614440917969\n",
            " Young Accuracy: 85.38717651367188\n",
            " Hat Accurcay: 97.75187683105469\n",
            " Smile Accurcay: 89.17568969726562\n",
            "\n",
            "\n",
            "Validation Epoch: 11 \tLoss: 0.13907258212566376\tAccuracy: 90.08319854736328\n",
            ".......................................\n",
            "Gender Accuracy: 90.01663970947266 \n",
            "EyeGlasses Accurcay: 99.16805267333984 \n",
            "Young Accuracy: 82.52911376953125 \n",
            "Hat Accurcay: 97.3377685546875 \n",
            "Smile Accurcay: 81.36439514160156\n",
            "\n",
            "Train Epoch: 12 \tLoss: 0.08542592823505402\tAccuracy: 93.79683685302734\n",
            ".......................................\n",
            "Gender Accuracy: 94.46295166015625\n",
            " EyeGlasses Accurcay: 98.95919799804688\n",
            " Young Accuracy: 86.17818450927734\n",
            " Hat Accurcay: 98.25145721435547\n",
            " Smile Accurcay: 91.13239288330078\n",
            "\n",
            "\n",
            "Validation Epoch: 12 \tLoss: 0.01641787961125374\tAccuracy: 89.78369140625\n",
            ".......................................\n",
            "Gender Accuracy: 91.3477554321289 \n",
            "EyeGlasses Accurcay: 99.33444213867188 \n",
            "Young Accuracy: 77.70382690429688 \n",
            "Hat Accurcay: 97.00498962402344 \n",
            "Smile Accurcay: 83.52745056152344\n",
            "\n",
            "Train Epoch: 13 \tLoss: 0.013469487428665161\tAccuracy: 94.47126770019531\n",
            ".......................................\n",
            "Gender Accuracy: 96.21149444580078\n",
            " EyeGlasses Accurcay: 98.91756439208984\n",
            " Young Accuracy: 87.4687728881836\n",
            " Hat Accurcay: 98.5012435913086\n",
            " Smile Accurcay: 91.25728607177734\n",
            "\n",
            "\n",
            "Validation Epoch: 13 \tLoss: 0.005905553698539734\tAccuracy: 91.2479248046875\n",
            ".......................................\n",
            "Gender Accuracy: 91.5141372680664 \n",
            "EyeGlasses Accurcay: 98.83527374267578 \n",
            "Young Accuracy: 83.36106872558594 \n",
            "Hat Accurcay: 97.17137908935547 \n",
            "Smile Accurcay: 85.35773468017578\n",
            "\n"
          ]
        }
      ]
    },
    {
      "cell_type": "markdown",
      "metadata": {
        "id": "wF-neXp2j0tB"
      },
      "source": [
        "## Saving Model"
      ]
    },
    {
      "cell_type": "code",
      "metadata": {
        "id": "6yS-pgnvj3PS"
      },
      "source": [
        "PATH = './task_CNNBestModel.pth'\n",
        "torch.save(model.state_dict(), PATH)"
      ],
      "execution_count": 299,
      "outputs": []
    },
    {
      "cell_type": "markdown",
      "metadata": {
        "id": "Sis6VWuUj89c"
      },
      "source": [
        "## Loading Model"
      ]
    },
    {
      "cell_type": "code",
      "metadata": {
        "colab": {
          "base_uri": "https://localhost:8080/"
        },
        "id": "qR3oSR8YkAPC",
        "outputId": "a5fc90c5-b422-4833-fdf5-b647287dc3fe"
      },
      "source": [
        "model.load_state_dict(torch.load(PATH))"
      ],
      "execution_count": 300,
      "outputs": [
        {
          "output_type": "execute_result",
          "data": {
            "text/plain": [
              "<All keys matched successfully>"
            ]
          },
          "metadata": {},
          "execution_count": 300
        }
      ]
    },
    {
      "cell_type": "markdown",
      "metadata": {
        "id": "HNtXkqS6VkRN"
      },
      "source": [
        "## Testing Model"
      ]
    },
    {
      "cell_type": "code",
      "metadata": {
        "id": "999kGxaVjuDh"
      },
      "source": [
        "test_loader=dataloaders_dict['val']"
      ],
      "execution_count": 301,
      "outputs": []
    },
    {
      "cell_type": "code",
      "metadata": {
        "id": "F-FrKWwyZbfK"
      },
      "source": [
        "def test( model, test_data):\n",
        "  total=0\n",
        "  acc=0\n",
        "  gen_pred = []\n",
        "  gen_tar =  []\n",
        "  eye_pred = []\n",
        "  eye_tar =  []\n",
        "  young_pred = []\n",
        "  young_tar =  []\n",
        "  hat_pred = []\n",
        "  hat_tar =  []\n",
        "  smile_pred = []\n",
        "  smile_tar =  []\n",
        "  acc1=0\n",
        "  acc2=0\n",
        "  acc3=0\n",
        "  acc4=0\n",
        "  acc5=0\n",
        "  for data,gender,Glasses,young,hat,smile in test_data:\n",
        "        genps,eyeps,yps,hps,sps= model(data)\n",
        "        genps = genps.view(-1)\n",
        "        eyeps = eyeps.view(-1)\n",
        "        yps = yps.view(-1)\n",
        "        hps = hps.view(-1)\n",
        "        sps = sps.view(-1)\n",
        "        gpred=predictions(genps)\n",
        "        epred=predictions(eyeps)\n",
        "        ypred=predictions(yps)\n",
        "        hpred=predictions(hps)\n",
        "        spred=predictions(sps)\n",
        "        total += gender.size(0)\n",
        "        acc1 += binary_acc(genps,gender)\n",
        "        acc2 += binary_acc(eyeps,Glasses)\n",
        "        acc3 += binary_acc(yps,young)\n",
        "        acc4 += binary_acc(hps,hat)\n",
        "        acc5 += binary_acc(sps,smile)\n",
        "        acc=(acc1+acc2+acc3+acc4+acc5)/5\n",
        "        gender=gender.detach().cpu().numpy()\n",
        "        gpred=gpred.detach().cpu().numpy()\n",
        "        Glasses=Glasses.detach().cpu().numpy()\n",
        "        epred=epred.detach().cpu().numpy()\n",
        "        young=young.detach().cpu().numpy()\n",
        "        ypred=ypred.detach().cpu().numpy()\n",
        "        hat=hat.detach().cpu().numpy()\n",
        "        hpred=hpred.detach().cpu().numpy()\n",
        "        smile=smile.detach().cpu().numpy()\n",
        "        spred=spred.detach().cpu().numpy()\n",
        "        gen_pred.append(gpred)\n",
        "        gen_tar.append(gender)\n",
        "        eye_pred.append(epred)\n",
        "        eye_tar.append(Glasses)\n",
        "        young_pred.append(ypred)\n",
        "        young_tar.append(young)\n",
        "        hat_pred.append(hpred)\n",
        "        hat_tar.append(hat)\n",
        "        smile_pred.append(spred)\n",
        "        smile_tar.append(smile)\n",
        "  print('Model Accuracy: {}%\\n\\n'.format(100 * (acc/total)))\n",
        "  return gen_pred,gen_tar,eye_pred,eye_tar,young_pred,young_tar,hat_pred,hat_tar,smile_pred,smile_tar"
      ],
      "execution_count": 302,
      "outputs": []
    },
    {
      "cell_type": "code",
      "metadata": {
        "colab": {
          "base_uri": "https://localhost:8080/"
        },
        "id": "gQ61GFb5kSdF",
        "outputId": "7ce693a1-5d99-4d26-d3be-a6869582aea7"
      },
      "source": [
        " gen_pred,gen_tar,eye_pred,eye_tar,young_pred,young_tar,hat_pred,hat_tar,smile_pred,smile_tar=test(model,test_loader)"
      ],
      "execution_count": 303,
      "outputs": [
        {
          "output_type": "stream",
          "name": "stdout",
          "text": [
            "Model Accuracy: 91.2479248046875%\n",
            "\n",
            "\n"
          ]
        }
      ]
    },
    {
      "cell_type": "markdown",
      "metadata": {
        "id": "KVccq-wFXeow"
      },
      "source": [
        "## Visualization"
      ]
    },
    {
      "cell_type": "markdown",
      "metadata": {
        "id": "vpfsIEZucowA"
      },
      "source": [
        "### Gender accuracy and Loss"
      ]
    },
    {
      "cell_type": "code",
      "metadata": {
        "id": "YKv9q602Xlhq"
      },
      "source": [
        "def visualize_plots(epochs,train_loss,val_acc,train_acc,val_loss):\n",
        "    epochs_= list(range(epochs))\n",
        "    fig_size = (13, 11)\n",
        "    fig, axes = plt.subplots(1, 2, figsize=fig_size)\n",
        "\n",
        "    plt.style.use('seaborn')\n",
        "    plt.subplot(221)\n",
        "    plt.plot(epochs_,train_loss)\n",
        "    plt.title(\"Epochs Vs Train Loss\")   \n",
        "    plt.xlabel(\"Epochs\")\n",
        "    plt.ylabel(\"Train Loss per epoch\")\n",
        "\n",
        "\n",
        "\n",
        "    plt.subplot(222)\n",
        "    plt.plot(epochs_,train_acc)\n",
        "    plt.title(\"Epochs Vs Train Accuracy\")   \n",
        "    plt.xlabel(\"Epochs\")\n",
        "    plt.ylabel(\"Train Accuracy per epoch\")\n",
        "\n",
        "    plt.style.use('seaborn')\n",
        "    plt.subplot(223)\n",
        "    plt.plot(epochs_,val_loss)\n",
        "    plt.title(\"Epochs Vs Validation Loss\")   \n",
        "    plt.xlabel(\"Epochs\")\n",
        "    plt.ylabel(\"Train Loss per epoch \")\n",
        "\n",
        "\n",
        "\n",
        "    plt.subplot(224)\n",
        "    plt.plot(epochs_,val_acc)\n",
        "    plt.title(\"Epochs Vs Validation Accuracy\")   \n",
        "    plt.xlabel(\"Epochs\")\n",
        "    plt.ylabel(\"Train Accuracy per epoch\")\n"
      ],
      "execution_count": 304,
      "outputs": []
    },
    {
      "cell_type": "code",
      "metadata": {
        "colab": {
          "base_uri": "https://localhost:8080/",
          "height": 675
        },
        "id": "iguQf29kYJ6_",
        "outputId": "1d46b769-c986-4009-f268-3198866f11a7"
      },
      "source": [
        "visualize_plots(14,train_loss,val_acc,train_accuracy,val_loss)"
      ],
      "execution_count": 305,
      "outputs": [
        {
          "output_type": "display_data",
          "data": {
            "image/png": "[encoded data removed]",
            "text/plain": [
              "<Figure size 936x792 with 4 Axes>"
            ]
          },
          "metadata": {}
        }
      ]
    },
    {
      "cell_type": "code",
      "metadata": {
        "id": "vKFh7RC2Gz5-"
      },
      "source": [
        "def visualize_plots_(epochs,val_acc,train_acc,str):\n",
        "    epochs_= list(range(epochs))\n",
        "    fig_size = (13, 11)\n",
        "    fig, axes = plt.subplots(1, 2, figsize=fig_size)\n",
        "\n",
        "\n",
        "    plt.subplot(221)\n",
        "    plt.plot(epochs_,train_acc)\n",
        "    plt.title(\"Epochs Vs Train Accuracy\")   \n",
        "    plt.xlabel(\"Epochs\")\n",
        "    plt.ylabel(\"Train Accuracy per epoch for \"+str)\n",
        "\n",
        "\n",
        "    plt.subplot(222)\n",
        "    plt.plot(epochs_,val_acc)\n",
        "    plt.title(\"Epochs Vs Validation Accuracy\")   \n",
        "    plt.xlabel(\"Epochs\")\n",
        "    plt.ylabel(\"Train Accuracy per epoch for \"+str)\n"
      ],
      "execution_count": 306,
      "outputs": []
    },
    {
      "cell_type": "markdown",
      "metadata": {
        "id": "K6MInX7lc0Sg"
      },
      "source": [
        "### Gender Training and Validation"
      ]
    },
    {
      "cell_type": "code",
      "metadata": {
        "colab": {
          "base_uri": "https://localhost:8080/",
          "height": 349
        },
        "id": "SN5FRr3Zc3j7",
        "outputId": "f246fa0c-cf59-4ec7-f03a-fced2c608902"
      },
      "source": [
        "visualize_plots_(14,hat_vacc,hat_accuracy,'Hat')"
      ],
      "execution_count": 307,
      "outputs": [
        {
          "output_type": "display_data",
          "data": {
            "image/png": "[encoded data removed]",
            "text/plain": [
              "<Figure size 936x792 with 2 Axes>"
            ]
          },
          "metadata": {}
        }
      ]
    },
    {
      "cell_type": "code",
      "metadata": {
        "id": "_Yw2OEGJw_Os"
      },
      "source": [
        "from sklearn.metrics import confusion_matrix,classification_report\n",
        "def confusion_matrix_plot(targets,predictions):\n",
        "        pred= [item for sublist in  predictions for item in sublist]\n",
        "        target_labels = [item for sublist in targets for item in sublist]\n",
        "        cf_matrix = confusion_matrix(target_labels,pred)\n",
        "        plt.figure(figsize = (15,10))\n",
        "        sns.heatmap(cf_matrix, annot=True)\n"
      ],
      "execution_count": 308,
      "outputs": []
    },
    {
      "cell_type": "code",
      "metadata": {
        "colab": {
          "base_uri": "https://localhost:8080/",
          "height": 592
        },
        "id": "PPN398zJI7VC",
        "outputId": "e5efdafc-5b26-4c77-e48a-8ca2a5c313e7"
      },
      "source": [
        "#gen_pred,gen_tar,eye_pred,eye_tar,young_pred,young_tar,hat_pred,hat_tar,smile_pred,smile_tar\n",
        "confusion_matrix_plot(hat_tar,hat_pred)"
      ],
      "execution_count": 309,
      "outputs": [
        {
          "output_type": "display_data",
          "data": {
            "image/png": "[encoded data removed]",
            "text/plain": [
              "<Figure size 1080x720 with 2 Axes>"
            ]
          },
          "metadata": {}
        }
      ]
    },
    {
      "cell_type": "markdown",
      "metadata": {
        "id": "5JI-Kk65fwg2"
      },
      "source": [
        "## Predictions Results"
      ]
    },
    {
      "cell_type": "code",
      "metadata": {
        "id": "hTAd99E7qqYG"
      },
      "source": [
        "from torch.autograd import Variable\n",
        "def Labelextraction(label, pred,top=1):\n",
        "      if(pred > 0.5):\n",
        "          return label[1]\n",
        "      else:\n",
        "          return label[0]        \n"
      ],
      "execution_count": 310,
      "outputs": []
    },
    {
      "cell_type": "code",
      "metadata": {
        "colab": {
          "base_uri": "https://localhost:8080/",
          "height": 436
        },
        "id": "p6aqESN8dF3u",
        "outputId": "c8b1129b-bd96-4b5e-9ff2-1415d6abb852"
      },
      "source": [
        "gender = ['Female','Male']\n",
        "Glasses = ['Not Wearing Glasses','Wearing Glasses']\n",
        "Young= ['Old','Young']\n",
        "Wearing_hat = ['Not Wearing Hat','Wearing Hat']\n",
        "Smile = ['Not Smiling','Smiling']\n",
        "out = []\n",
        "image,_,_,_,_,_=next(iter(test_loader))\n",
        "img=image[0]\n",
        "y1,y2,y3,y4,y5= model(img.view(1, img.shape[0],img.shape[1], img.shape[2]))\n",
        "print()\n",
        "s1=Labelextraction(gender,y1)\n",
        "s2=Labelextraction(Glasses,y2)\n",
        "s3=Labelextraction(Young,y3)\n",
        "s4=Labelextraction(Wearing_hat,y4)\n",
        "s5=Labelextraction(Smile,y5)\n",
        "s='['+s1 + ',' + s2 +','+ s3 +','+ s4 +','+ s5 +']'\n",
        "print(s)\n",
        "print()\n",
        "plt.imshow(img.permute(1, 2, 0))"
      ],
      "execution_count": 314,
      "outputs": [
        {
          "output_type": "stream",
          "name": "stderr",
          "text": [
            "Clipping input data to the valid range for imshow with RGB data ([0..1] for floats or [0..255] for integers).\n"
          ]
        },
        {
          "output_type": "stream",
          "name": "stdout",
          "text": [
            "\n",
            "[Male,Not Wearing Glasses,Young,Not Wearing Hat,Smiling]\n",
            "\n"
          ]
        },
        {
          "output_type": "execute_result",
          "data": {
            "text/plain": [
              "<matplotlib.image.AxesImage at 0x7f8559f51090>"
            ]
          },
          "metadata": {},
          "execution_count": 314
        },
        {
          "output_type": "display_data",
          "data": {
            "image/png": "[encoded data removed]",
            "text/plain": [
              "<Figure size 576x396 with 1 Axes>"
            ]
          },
          "metadata": {}
        }
      ]
    },
    {
      "cell_type": "code",
      "metadata": {
        "id": "ZQr1JUKffyUd",
        "colab": {
          "base_uri": "https://localhost:8080/",
          "height": 436
        },
        "outputId": "391b94b7-9add-408a-823f-bf1e5a67a754"
      },
      "source": [
        "img=image[2]\n",
        "y1,y2,y3,y4,y5= model(img.view(1, img.shape[0],img.shape[1], img.shape[2]))\n",
        "print()\n",
        "s1=Labelextraction(gender,y1)\n",
        "s2=Labelextraction(Glasses,y2)\n",
        "s3=Labelextraction(Young,y3)\n",
        "s4=Labelextraction(Wearing_hat,y4)\n",
        "s5=Labelextraction(Smile,y5)\n",
        "s='['+s1 + ',' + s2 +','+ s3 +','+ s4 +','+ s5 +']'\n",
        "print(s)\n",
        "print()\n",
        "plt.imshow(img.permute(1, 2, 0))"
      ],
      "execution_count": 319,
      "outputs": [
        {
          "output_type": "stream",
          "name": "stderr",
          "text": [
            "Clipping input data to the valid range for imshow with RGB data ([0..1] for floats or [0..255] for integers).\n"
          ]
        },
        {
          "output_type": "stream",
          "name": "stdout",
          "text": [
            "\n",
            "[Female,Not Wearing Glasses,Young,Not Wearing Hat,Smiling]\n",
            "\n"
          ]
        },
        {
          "output_type": "execute_result",
          "data": {
            "text/plain": [
              "<matplotlib.image.AxesImage at 0x7f8559d5ca90>"
            ]
          },
          "metadata": {},
          "execution_count": 319
        },
        {
          "output_type": "display_data",
          "data": {
            "image/png": "[encoded data removed]",
            "text/plain": [
              "<Figure size 576x396 with 1 Axes>"
            ]
          },
          "metadata": {}
        }
      ]
    },
    {
      "cell_type": "code",
      "metadata": {
        "colab": {
          "base_uri": "https://localhost:8080/",
          "height": 436
        },
        "id": "-5MpldtEsVYp",
        "outputId": "6af72dfc-5052-431f-f584-9931bb57ddaa"
      },
      "source": [
        "image,_,_,_,_,_=next(iter(test_loader))\n",
        "img=image[1]\n",
        "y1,y2,y3,y4,y5= model(img.view(1, img.shape[0],img.shape[1], img.shape[2]))\n",
        "print()\n",
        "s1=Labelextraction(gender,y1)\n",
        "s2=Labelextraction(Glasses,y2)\n",
        "s3=Labelextraction(Young,y3)\n",
        "s4=Labelextraction(Wearing_hat,y4)\n",
        "s5=Labelextraction(Smile,y5)\n",
        "s='['+s1 + ',' + s2 +','+ s3 +','+ s4 +','+ s5 +']'\n",
        "print(s)\n",
        "print()\n",
        "plt.imshow(img.permute(1, 2, 0))"
      ],
      "execution_count": 328,
      "outputs": [
        {
          "output_type": "stream",
          "name": "stderr",
          "text": [
            "Clipping input data to the valid range for imshow with RGB data ([0..1] for floats or [0..255] for integers).\n"
          ]
        },
        {
          "output_type": "stream",
          "name": "stdout",
          "text": [
            "\n",
            "[Female,Not Wearing Glasses,Young,Not Wearing Hat,Not Smiling]\n",
            "\n"
          ]
        },
        {
          "output_type": "execute_result",
          "data": {
            "text/plain": [
              "<matplotlib.image.AxesImage at 0x7f85599bc0d0>"
            ]
          },
          "metadata": {},
          "execution_count": 328
        },
        {
          "output_type": "display_data",
          "data": {
            "image/png": "[encoded data removed]",
            "text/plain": [
              "<Figure size 576x396 with 1 Axes>"
            ]
          },
          "metadata": {}
        }
      ]
    },
    {
      "cell_type": "code",
      "metadata": {
        "id": "_l47RLT7slEU"
      },
      "source": [
        ""
      ],
      "execution_count": 327,
      "outputs": []
    }
  ]
}